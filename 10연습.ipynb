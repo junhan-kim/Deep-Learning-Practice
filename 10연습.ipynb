{
  "nbformat": 4,
  "nbformat_minor": 0,
  "metadata": {
    "colab": {
      "name": "10연습.ipynb",
      "provenance": [],
      "collapsed_sections": [],
      "include_colab_link": true
    },
    "kernelspec": {
      "name": "python3",
      "display_name": "Python 3"
    }
  },
  "cells": [
    {
      "cell_type": "markdown",
      "metadata": {
        "id": "view-in-github",
        "colab_type": "text"
      },
      "source": [
        "<a href=\"https://colab.research.google.com/github/junhan-kim/Deep-Learning-Practice/blob/master/10%EC%97%B0%EC%8A%B5.ipynb\" target=\"_parent\"><img src=\"https://colab.research.google.com/assets/colab-badge.svg\" alt=\"Open In Colab\"/></a>"
      ]
    },
    {
      "cell_type": "code",
      "metadata": {
        "id": "L9JGy2Pq8AOw",
        "colab_type": "code",
        "colab": {}
      },
      "source": [
        "!pip install -U -q PyDrive\n",
        "from pydrive.auth import GoogleAuth\n",
        "from pydrive.drive import GoogleDrive\n",
        "from google.colab import auth\n",
        "from oauth2client.client import GoogleCredentials\n",
        "\n",
        "auth.authenticate_user()\n",
        "gauth = GoogleAuth()\n",
        "gauth.credentials = GoogleCredentials.get_application_default()\n",
        "drive = GoogleDrive(gauth)\n",
        "\n",
        "downloaded = drive.CreateFile({'id' : '11udTfwgD9CkMUG_NSf6VfZAazrl9F8lP'})\n",
        "downloaded.GetContentFile('ThoraricSurgery.csv')"
      ],
      "execution_count": 0,
      "outputs": []
    },
    {
      "cell_type": "code",
      "metadata": {
        "id": "tGi9uU266eqW",
        "colab_type": "code",
        "colab": {}
      },
      "source": [
        "from keras.models import Sequential\n",
        "from keras.layers import Dense\n",
        "\n",
        "import numpy\n",
        "import tensorflow as tf"
      ],
      "execution_count": 0,
      "outputs": []
    },
    {
      "cell_type": "code",
      "metadata": {
        "id": "6YVMStsB7b8N",
        "colab_type": "code",
        "colab": {}
      },
      "source": [
        "seed = 0\n",
        "numpy.random.seed(seed)\n",
        "tf.set_random_seed(seed)"
      ],
      "execution_count": 0,
      "outputs": []
    },
    {
      "cell_type": "code",
      "metadata": {
        "id": "wVZ6sDFz7kSf",
        "colab_type": "code",
        "colab": {}
      },
      "source": [
        "Data_set = numpy.loadtxt(\"ThoraricSurgery.csv\", delimiter = \",\")"
      ],
      "execution_count": 0,
      "outputs": []
    },
    {
      "cell_type": "code",
      "metadata": {
        "id": "_nJrZUAa7s-L",
        "colab_type": "code",
        "colab": {}
      },
      "source": [
        "X = Data_set[:,0:17]\n",
        "Y = Data_set[:,17]"
      ],
      "execution_count": 0,
      "outputs": []
    },
    {
      "cell_type": "code",
      "metadata": {
        "id": "6vfAUv3B9qiF",
        "colab_type": "code",
        "colab": {}
      },
      "source": [
        "model = Sequential()\n",
        "model.add(Dense(30, input_dim=17, activation='relu'))\n",
        "model.add(Dense(1, activation='sigmoid'))"
      ],
      "execution_count": 0,
      "outputs": []
    },
    {
      "cell_type": "code",
      "metadata": {
        "id": "C1qHjjDP9-dj",
        "colab_type": "code",
        "colab": {}
      },
      "source": [
        "model.compile(loss='mean_squared_error', optimizer='adam', metrics=['accuracy'])"
      ],
      "execution_count": 0,
      "outputs": []
    },
    {
      "cell_type": "code",
      "metadata": {
        "id": "LahYAimx-Kl0",
        "colab_type": "code",
        "outputId": "89e97c12-e528-45cc-cdce-ba7d16da2222",
        "colab": {
          "base_uri": "https://localhost:8080/",
          "height": 1115
        }
      },
      "source": [
        "model.fit(X, Y, epochs=30, batch_size=10)"
      ],
      "execution_count": 0,
      "outputs": [
        {
          "output_type": "stream",
          "text": [
            "Epoch 1/30\n",
            "470/470 [==============================] - 0s 352us/step - loss: 0.6615 - acc: 0.3149\n",
            "Epoch 2/30\n",
            "470/470 [==============================] - 0s 128us/step - loss: 0.1488 - acc: 0.8511\n",
            "Epoch 3/30\n",
            "470/470 [==============================] - 0s 112us/step - loss: 0.1488 - acc: 0.8511\n",
            "Epoch 4/30\n",
            "470/470 [==============================] - 0s 112us/step - loss: 0.1488 - acc: 0.8511\n",
            "Epoch 5/30\n",
            "470/470 [==============================] - 0s 137us/step - loss: 0.1488 - acc: 0.8511\n",
            "Epoch 6/30\n",
            "470/470 [==============================] - 0s 145us/step - loss: 0.1487 - acc: 0.8511\n",
            "Epoch 7/30\n",
            "470/470 [==============================] - 0s 121us/step - loss: 0.1487 - acc: 0.8511\n",
            "Epoch 8/30\n",
            "470/470 [==============================] - 0s 135us/step - loss: 0.1487 - acc: 0.8511\n",
            "Epoch 9/30\n",
            "470/470 [==============================] - 0s 145us/step - loss: 0.1487 - acc: 0.8511\n",
            "Epoch 10/30\n",
            "470/470 [==============================] - 0s 136us/step - loss: 0.1486 - acc: 0.8511\n",
            "Epoch 11/30\n",
            "470/470 [==============================] - 0s 119us/step - loss: 0.1498 - acc: 0.8447\n",
            "Epoch 12/30\n",
            "470/470 [==============================] - 0s 124us/step - loss: 0.1486 - acc: 0.8511\n",
            "Epoch 13/30\n",
            "470/470 [==============================] - 0s 137us/step - loss: 0.1485 - acc: 0.8511\n",
            "Epoch 14/30\n",
            "470/470 [==============================] - 0s 130us/step - loss: 0.1483 - acc: 0.8511\n",
            "Epoch 15/30\n",
            "470/470 [==============================] - 0s 148us/step - loss: 0.1485 - acc: 0.8511\n",
            "Epoch 16/30\n",
            "470/470 [==============================] - 0s 133us/step - loss: 0.1490 - acc: 0.8447\n",
            "Epoch 17/30\n",
            "470/470 [==============================] - 0s 116us/step - loss: 0.1479 - acc: 0.8489\n",
            "Epoch 18/30\n",
            "470/470 [==============================] - 0s 150us/step - loss: 0.1482 - acc: 0.8468\n",
            "Epoch 19/30\n",
            "470/470 [==============================] - 0s 133us/step - loss: 0.1477 - acc: 0.8511\n",
            "Epoch 20/30\n",
            "470/470 [==============================] - 0s 128us/step - loss: 0.1480 - acc: 0.8511\n",
            "Epoch 21/30\n",
            "470/470 [==============================] - 0s 136us/step - loss: 0.1474 - acc: 0.8511\n",
            "Epoch 22/30\n",
            "470/470 [==============================] - 0s 159us/step - loss: 0.1469 - acc: 0.8511\n",
            "Epoch 23/30\n",
            "470/470 [==============================] - 0s 136us/step - loss: 0.1466 - acc: 0.8511\n",
            "Epoch 24/30\n",
            "470/470 [==============================] - 0s 114us/step - loss: 0.1475 - acc: 0.8489\n",
            "Epoch 25/30\n",
            "470/470 [==============================] - 0s 138us/step - loss: 0.1470 - acc: 0.8511\n"
          ],
          "name": "stdout"
        },
        {
          "output_type": "stream",
          "text": [
            "Epoch 26/30\n",
            "470/470 [==============================] - 0s 135us/step - loss: 0.1466 - acc: 0.8511\n",
            "Epoch 27/30\n",
            "470/470 [==============================] - 0s 131us/step - loss: 0.1472 - acc: 0.8511\n",
            "Epoch 28/30\n",
            "470/470 [==============================] - 0s 123us/step - loss: 0.1471 - acc: 0.8511\n",
            "Epoch 29/30\n",
            "470/470 [==============================] - 0s 118us/step - loss: 0.1470 - acc: 0.8489\n",
            "Epoch 30/30\n",
            "470/470 [==============================] - 0s 137us/step - loss: 0.1461 - acc: 0.8532\n"
          ],
          "name": "stdout"
        },
        {
          "output_type": "execute_result",
          "data": {
            "text/plain": [
              "<keras.callbacks.History at 0x7fc94f4a5518>"
            ]
          },
          "metadata": {
            "tags": []
          },
          "execution_count": 20
        }
      ]
    },
    {
      "cell_type": "code",
      "metadata": {
        "id": "DS-vRXF2-U6O",
        "colab_type": "code",
        "outputId": "13f3c6d8-3b37-4880-cd9f-e1a40be3f485",
        "colab": {
          "base_uri": "https://localhost:8080/",
          "height": 71
        }
      },
      "source": [
        "print(\"\\n Accuracy: %.4f\" % (model.evaluate(X,Y)[1]))"
      ],
      "execution_count": 0,
      "outputs": [
        {
          "output_type": "stream",
          "text": [
            "470/470 [==============================] - 0s 37us/step\n",
            "\n",
            " Accuracy: 0.8511\n"
          ],
          "name": "stdout"
        }
      ]
    },
    {
      "cell_type": "code",
      "metadata": {
        "id": "zxv-HSgl-d_B",
        "colab_type": "code",
        "colab": {}
      },
      "source": [
        ""
      ],
      "execution_count": 0,
      "outputs": []
    }
  ]
}