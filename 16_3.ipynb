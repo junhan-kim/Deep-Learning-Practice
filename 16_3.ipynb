{
  "nbformat": 4,
  "nbformat_minor": 0,
  "metadata": {
    "colab": {
      "name": "16-3.ipynb",
      "provenance": [],
      "collapsed_sections": [],
      "include_colab_link": true
    },
    "kernelspec": {
      "name": "python3",
      "display_name": "Python 3"
    },
    "accelerator": "GPU"
  },
  "cells": [
    {
      "cell_type": "markdown",
      "metadata": {
        "id": "view-in-github",
        "colab_type": "text"
      },
      "source": [
        "<a href=\"https://colab.research.google.com/github/junhan-kim/Deep-Learning-Practice/blob/master/16_3.ipynb\" target=\"_parent\"><img src=\"https://colab.research.google.com/assets/colab-badge.svg\" alt=\"Open In Colab\"/></a>"
      ]
    },
    {
      "cell_type": "code",
      "metadata": {
        "id": "19uArMTO3bMs",
        "colab_type": "code",
        "colab": {}
      },
      "source": [
        "!pip install -U -q PyDrive\n",
        "\n",
        "from pydrive.auth import GoogleAuth\n",
        "from pydrive.drive import GoogleDrive\n",
        "from google.colab import auth\n",
        "from oauth2client.client import GoogleCredentials\n",
        "\n",
        "auth.authenticate_user()\n",
        "gauth = GoogleAuth()\n",
        "gauth.credentials = GoogleCredentials.get_application_default()\n",
        "drive = GoogleDrive(gauth)"
      ],
      "execution_count": 0,
      "outputs": []
    },
    {
      "cell_type": "code",
      "metadata": {
        "id": "NAjF1jtY3vb6",
        "colab_type": "code",
        "outputId": "d198c8a3-33d2-4f05-b069-47e19e9d99de",
        "colab": {
          "base_uri": "https://localhost:8080/",
          "height": 36
        }
      },
      "source": [
        "from keras.utils import multi_gpu_model\n",
        "from keras.datasets import mnist\n",
        "from keras.utils import np_utils\n",
        "from keras.models import Sequential\n",
        "from keras.layers import Dense, Dropout, Flatten, Conv2D, MaxPooling2D\n",
        "from keras.callbacks import ModelCheckpoint,EarlyStopping\n",
        "\n",
        "import matplotlib.pyplot as plt\n",
        "import numpy\n",
        "import os\n",
        "import tensorflow as tf\n",
        "\n"
      ],
      "execution_count": 0,
      "outputs": [
        {
          "output_type": "stream",
          "text": [
            "Using TensorFlow backend.\n"
          ],
          "name": "stderr"
        }
      ]
    },
    {
      "cell_type": "code",
      "metadata": {
        "id": "hvHIQ6W23_10",
        "colab_type": "code",
        "colab": {}
      },
      "source": [
        "seed = 0\n",
        "numpy.random.seed(seed)\n",
        "tf.set_random_seed(seed)\n"
      ],
      "execution_count": 0,
      "outputs": []
    },
    {
      "cell_type": "code",
      "metadata": {
        "id": "MkWmQ5u74809",
        "colab_type": "code",
        "outputId": "2b74d78d-9565-4340-984a-150f92224a33",
        "colab": {
          "base_uri": "https://localhost:8080/",
          "height": 55
        }
      },
      "source": [
        "(X_train, Y_train), (X_test, Y_test) = mnist.load_data()\n",
        "X_train = X_train.reshape(X_train.shape[0], 28, 28, 1).astype('float32') / 255\n",
        "X_test = X_test.reshape(X_test.shape[0], 28, 28, 1).astype('float32') / 255\n",
        "Y_train = np_utils.to_categorical(Y_train)\n",
        "Y_test = np_utils.to_categorical(Y_test)\n"
      ],
      "execution_count": 0,
      "outputs": [
        {
          "output_type": "stream",
          "text": [
            "Downloading data from https://s3.amazonaws.com/img-datasets/mnist.npz\n",
            "11493376/11490434 [==============================] - 9s 1us/step\n"
          ],
          "name": "stdout"
        }
      ]
    },
    {
      "cell_type": "code",
      "metadata": {
        "id": "p3ltmLhE4_Ek",
        "colab_type": "code",
        "colab": {}
      },
      "source": [
        "model = Sequential()\n",
        "model.add(Conv2D(32, kernel_size=(5, 5), input_shape=(28, 28, 1), activation='relu'))\n",
        "model.add(MaxPooling2D(pool_size=(2, 2)))\n",
        "model.add(Conv2D(32, (5, 5), activation='relu'))\n",
        "model.add(MaxPooling2D(pool_size=(2, 2)))\n",
        "model.add(Dropout(0.25))\n",
        "model.add(Flatten())\n",
        "model.add(Dense(256, activation='relu'))\n",
        "model.add(Dropout(0.5))\n",
        "model.add(Dense(10, activation='softmax'))\n"
      ],
      "execution_count": 0,
      "outputs": []
    },
    {
      "cell_type": "markdown",
      "metadata": {
        "id": "pNlHmeBZBT-1",
        "colab_type": "text"
      },
      "source": [
        "## kernal_size를 2,2에서 5,5로 바꾸고, MaxPooling의 pool_size를 2,2로 바꾼 후 각 cnn층 뒤에 하나씩 넣어줌."
      ]
    },
    {
      "cell_type": "code",
      "metadata": {
        "id": "K7hcvszz5AXT",
        "colab_type": "code",
        "colab": {}
      },
      "source": [
        "model.compile(loss='categorical_crossentropy',\n",
        "              optimizer='adam',\n",
        "              metrics=['accuracy'])\n"
      ],
      "execution_count": 0,
      "outputs": []
    },
    {
      "cell_type": "code",
      "metadata": {
        "id": "f0pxu7eM5E8K",
        "colab_type": "code",
        "colab": {}
      },
      "source": [
        "MODEL_DIR = './model/'\n",
        "if not os.path.exists(MODEL_DIR):\n",
        "    os.mkdir(MODEL_DIR)\n"
      ],
      "execution_count": 0,
      "outputs": []
    },
    {
      "cell_type": "code",
      "metadata": {
        "id": "JJFBhtPI5Ga2",
        "colab_type": "code",
        "colab": {}
      },
      "source": [
        "modelpath=\"./model/{epoch:02d}-{val_loss:.4f}.hdf5\"\n",
        "checkpointer = ModelCheckpoint(filepath=modelpath, monitor='val_loss', verbose=1, save_best_only=True)\n",
        "early_stopping_callback = EarlyStopping(monitor='val_loss', patience=10)\n"
      ],
      "execution_count": 0,
      "outputs": []
    },
    {
      "cell_type": "code",
      "metadata": {
        "id": "XjjCcOWn5JI9",
        "colab_type": "code",
        "outputId": "c8684022-a6da-436c-872e-ead26c4c6bbc",
        "colab": {
          "base_uri": "https://localhost:8080/",
          "height": 1100
        }
      },
      "source": [
        "history = model.fit(X_train, Y_train, validation_data=(X_test, Y_test), epochs=30, batch_size=200, \n",
        "                    verbose=0, callbacks=[early_stopping_callback,checkpointer])\n",
        "                                      \n"
      ],
      "execution_count": 0,
      "outputs": [
        {
          "output_type": "stream",
          "text": [
            "\n",
            "Epoch 00001: val_loss improved from inf to 0.06027, saving model to ./model/01-0.0603.hdf5\n",
            "\n",
            "Epoch 00002: val_loss improved from 0.06027 to 0.03647, saving model to ./model/02-0.0365.hdf5\n",
            "\n",
            "Epoch 00003: val_loss improved from 0.03647 to 0.03157, saving model to ./model/03-0.0316.hdf5\n",
            "\n",
            "Epoch 00004: val_loss improved from 0.03157 to 0.02814, saving model to ./model/04-0.0281.hdf5\n",
            "\n",
            "Epoch 00005: val_loss improved from 0.02814 to 0.02569, saving model to ./model/05-0.0257.hdf5\n",
            "\n",
            "Epoch 00006: val_loss improved from 0.02569 to 0.01984, saving model to ./model/06-0.0198.hdf5\n",
            "\n",
            "Epoch 00007: val_loss did not improve from 0.01984\n",
            "\n",
            "Epoch 00008: val_loss improved from 0.01984 to 0.01900, saving model to ./model/08-0.0190.hdf5\n",
            "\n",
            "Epoch 00009: val_loss did not improve from 0.01900\n",
            "\n",
            "Epoch 00010: val_loss did not improve from 0.01900\n",
            "\n",
            "Epoch 00011: val_loss improved from 0.01900 to 0.01839, saving model to ./model/11-0.0184.hdf5\n",
            "\n",
            "Epoch 00012: val_loss did not improve from 0.01839\n",
            "\n",
            "Epoch 00013: val_loss improved from 0.01839 to 0.01802, saving model to ./model/13-0.0180.hdf5\n",
            "\n",
            "Epoch 00014: val_loss did not improve from 0.01802\n",
            "\n",
            "Epoch 00015: val_loss did not improve from 0.01802\n",
            "\n",
            "Epoch 00016: val_loss did not improve from 0.01802\n",
            "\n",
            "Epoch 00017: val_loss improved from 0.01802 to 0.01734, saving model to ./model/17-0.0173.hdf5\n",
            "\n",
            "Epoch 00018: val_loss did not improve from 0.01734\n",
            "\n",
            "Epoch 00019: val_loss improved from 0.01734 to 0.01598, saving model to ./model/19-0.0160.hdf5\n",
            "\n",
            "Epoch 00020: val_loss did not improve from 0.01598\n",
            "\n",
            "Epoch 00021: val_loss did not improve from 0.01598\n",
            "\n",
            "Epoch 00022: val_loss did not improve from 0.01598\n",
            "\n",
            "Epoch 00023: val_loss did not improve from 0.01598\n",
            "\n",
            "Epoch 00024: val_loss did not improve from 0.01598\n",
            "\n",
            "Epoch 00025: val_loss did not improve from 0.01598\n",
            "\n",
            "Epoch 00026: val_loss did not improve from 0.01598\n",
            "\n",
            "Epoch 00027: val_loss did not improve from 0.01598\n",
            "\n",
            "Epoch 00028: val_loss did not improve from 0.01598\n",
            "\n",
            "Epoch 00029: val_loss did not improve from 0.01598\n"
          ],
          "name": "stdout"
        }
      ]
    },
    {
      "cell_type": "code",
      "metadata": {
        "id": "0RUIyAIS5NS8",
        "colab_type": "code",
        "outputId": "85a5af6b-3777-4a77-d8e6-a2d7d6a91bc3",
        "colab": {
          "base_uri": "https://localhost:8080/",
          "height": 73
        }
      },
      "source": [
        "\n",
        "print(\"\\n Test Accuracy: %.4f\" % (model.evaluate(X_test, Y_test) [1]))\n"
      ],
      "execution_count": 0,
      "outputs": [
        {
          "output_type": "stream",
          "text": [
            "10000/10000 [==============================] - 1s 117us/step\n",
            "\n",
            " Test Accuracy: 0.9935\n"
          ],
          "name": "stdout"
        }
      ]
    },
    {
      "cell_type": "markdown",
      "metadata": {
        "id": "kUVoZZfpAwSa",
        "colab_type": "text"
      },
      "source": [
        "## 기존 Accuracy : 0.9926에서 0.9935로 약 0.0009 향상됨."
      ]
    },
    {
      "cell_type": "code",
      "metadata": {
        "id": "pQIjkU7a5RFC",
        "colab_type": "code",
        "colab": {}
      },
      "source": [
        "y_vloss = history.history['val_loss']\n",
        "y_loss = history.history['loss']\n"
      ],
      "execution_count": 0,
      "outputs": []
    },
    {
      "cell_type": "code",
      "metadata": {
        "id": "IF_tU-zv5VLf",
        "colab_type": "code",
        "outputId": "db2d58be-b1cf-41b7-cc25-e11993849b1a",
        "colab": {
          "base_uri": "https://localhost:8080/",
          "height": 361
        }
      },
      "source": [
        "x_len = numpy.arange(len(y_loss))\n",
        "plt.plot(x_len, y_vloss, marker='.', c=\"red\", label='Testset_loss')\n",
        "plt.plot(x_len, y_loss, marker='.', c=\"blue\", label='Trainset_loss')\n",
        "\n",
        "plt.legend(loc='upper right')\n",
        "plt.grid()\n",
        "plt.xlabel('epoch')\n",
        "plt.ylabel('loss')\n",
        "plt.show()"
      ],
      "execution_count": 0,
      "outputs": [
        {
          "output_type": "display_data",
          "data": {
            "image/png": "[encoded data removed]",
            "text/plain": [
              "<matplotlib.figure.Figure at 0x7efc70f3b748>"
            ]
          },
          "metadata": {
            "tags": []
          }
        }
      ]
    }
  ]
}