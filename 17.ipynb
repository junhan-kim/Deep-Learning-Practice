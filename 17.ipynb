{
  "nbformat": 4,
  "nbformat_minor": 0,
  "metadata": {
    "colab": {
      "name": "17.ipynb",
      "provenance": [],
      "collapsed_sections": [],
      "include_colab_link": true
    },
    "kernelspec": {
      "name": "python3",
      "display_name": "Python 3"
    },
    "accelerator": "GPU"
  },
  "cells": [
    {
      "cell_type": "markdown",
      "metadata": {
        "id": "view-in-github",
        "colab_type": "text"
      },
      "source": [
        "<a href=\"https://colab.research.google.com/github/junhan-kim/Deep-Learning-Practice/blob/master/17.ipynb\" target=\"_parent\"><img src=\"https://colab.research.google.com/assets/colab-badge.svg\" alt=\"Open In Colab\"/></a>"
      ]
    },
    {
      "cell_type": "code",
      "metadata": {
        "id": "PWHMjgnbKNkP",
        "colab_type": "code",
        "colab": {}
      },
      "source": [
        "!pip install -U -q PyDrive\n",
        "\n",
        "from pydrive.auth import GoogleAuth\n",
        "from pydrive.drive import GoogleDrive\n",
        "from google.colab import auth\n",
        "from oauth2client.client import GoogleCredentials\n",
        "\n",
        "auth.authenticate_user()\n",
        "gauth = GoogleAuth()\n",
        "gauth.credentials = GoogleCredentials.get_application_default()\n",
        "drive = GoogleDrive(gauth)"
      ],
      "execution_count": 0,
      "outputs": []
    },
    {
      "cell_type": "code",
      "metadata": {
        "id": "WFpqxiCBJP7g",
        "colab_type": "code",
        "outputId": "9a428c41-27ab-44f5-d56c-051e510b822d",
        "colab": {
          "base_uri": "https://localhost:8080/",
          "height": 36
        }
      },
      "source": [
        "from keras.datasets import reuters\n",
        "from keras.models import Sequential\n",
        "from keras.layers import Dense, LSTM, Embedding\n",
        "from keras.preprocessing import sequence\n",
        "from keras.utils import np_utils\n",
        "\n",
        "import numpy\n",
        "import tensorflow as tf\n",
        "import matplotlib.pyplot as plt"
      ],
      "execution_count": 0,
      "outputs": [
        {
          "output_type": "stream",
          "text": [
            "Using TensorFlow backend.\n"
          ],
          "name": "stderr"
        }
      ]
    },
    {
      "cell_type": "code",
      "metadata": {
        "id": "DqXyy7S5KKGI",
        "colab_type": "code",
        "colab": {}
      },
      "source": [
        "seed = 0\n",
        "numpy.random.seed(seed)\n",
        "tf.set_random_seed(seed)"
      ],
      "execution_count": 0,
      "outputs": []
    },
    {
      "cell_type": "code",
      "metadata": {
        "id": "psHFiM39KZGw",
        "colab_type": "code",
        "outputId": "ff404dfd-7f0f-42fd-ea98-02cfe8605854",
        "colab": {
          "base_uri": "https://localhost:8080/",
          "height": 149
        }
      },
      "source": [
        "(X_train, Y_train), (X_test, Y_test) = reuters.load_data(num_words=1000, test_split=0.2)\n",
        "\n",
        "category = numpy.max(Y_train) + 1\n",
        "print(category, '카테고리')\n",
        "print(len(X_train), '학습용 뉴스 기사')\n",
        "print(len(X_test), '테스트용 뉴스 기사')\n",
        "print(X_train[0])"
      ],
      "execution_count": 0,
      "outputs": [
        {
          "output_type": "stream",
          "text": [
            "Downloading data from https://s3.amazonaws.com/text-datasets/reuters.npz\n",
            "2113536/2110848 [==============================] - 2s 1us/step\n",
            "46 카테고리\n",
            "8982 학습용 뉴스 기사\n",
            "2246 테스트용 뉴스 기사\n",
            "[1, 2, 2, 8, 43, 10, 447, 5, 25, 207, 270, 5, 2, 111, 16, 369, 186, 90, 67, 7, 89, 5, 19, 102, 6, 19, 124, 15, 90, 67, 84, 22, 482, 26, 7, 48, 4, 49, 8, 864, 39, 209, 154, 6, 151, 6, 83, 11, 15, 22, 155, 11, 15, 7, 48, 9, 2, 2, 504, 6, 258, 6, 272, 11, 15, 22, 134, 44, 11, 15, 16, 8, 197, 2, 90, 67, 52, 29, 209, 30, 32, 132, 6, 109, 15, 17, 12]\n"
          ],
          "name": "stdout"
        }
      ]
    },
    {
      "cell_type": "code",
      "metadata": {
        "id": "NJIwmL7JKzpI",
        "colab_type": "code",
        "colab": {}
      },
      "source": [
        "x_train = sequence.pad_sequences(X_train, maxlen=100)\n",
        "x_test = sequence.pad_sequences(X_test, maxlen=100)\n",
        "y_train = np_utils.to_categorical(Y_train)\n",
        "y_test = np_utils.to_categorical(Y_test)"
      ],
      "execution_count": 0,
      "outputs": []
    },
    {
      "cell_type": "code",
      "metadata": {
        "id": "90C5lbicLKcu",
        "colab_type": "code",
        "colab": {}
      },
      "source": [
        "model = Sequential()\n",
        "model.add(Embedding(1000,100))\n",
        "model.add(LSTM(100, activation='tanh'))\n",
        "model.add(Dense(46, activation='softmax'))"
      ],
      "execution_count": 0,
      "outputs": []
    },
    {
      "cell_type": "code",
      "metadata": {
        "id": "phDxLV1XLLV8",
        "colab_type": "code",
        "colab": {}
      },
      "source": [
        "model.compile(loss='categorical_crossentropy', optimizer='adam', metrics=['accuracy'])"
      ],
      "execution_count": 0,
      "outputs": []
    },
    {
      "cell_type": "code",
      "metadata": {
        "id": "tOdq_BIbLpXR",
        "colab_type": "code",
        "outputId": "46820333-2cfb-478e-b192-de9dbced19a9",
        "colab": {
          "base_uri": "https://localhost:8080/",
          "height": 803
        }
      },
      "source": [
        "history = model.fit(x_train, y_train, batch_size=100, epochs=20, validation_data=(x_test, y_test))"
      ],
      "execution_count": 0,
      "outputs": [
        {
          "output_type": "stream",
          "text": [
            "Train on 8982 samples, validate on 2246 samples\n",
            "Epoch 1/20\n",
            "8982/8982 [==============================] - 25s 3ms/step - loss: 2.6243 - acc: 0.3440 - val_loss: 2.4224 - val_acc: 0.3620\n",
            "Epoch 2/20\n",
            "8982/8982 [==============================] - 24s 3ms/step - loss: 2.3330 - acc: 0.3791 - val_loss: 2.1037 - val_acc: 0.4773\n",
            "Epoch 3/20\n",
            "8982/8982 [==============================] - 24s 3ms/step - loss: 1.9606 - acc: 0.4962 - val_loss: 1.8161 - val_acc: 0.5361\n",
            "Epoch 4/20\n",
            "4400/8982 [=============>................] - ETA: 11s - loss: 1.7885 - acc: 0.5468"
          ],
          "name": "stdout"
        },
        {
          "output_type": "stream",
          "text": [
            "8982/8982 [==============================] - 24s 3ms/step - loss: 1.7395 - acc: 0.5574 - val_loss: 1.7112 - val_acc: 0.5646\n",
            "Epoch 5/20\n",
            "8982/8982 [==============================] - 23s 3ms/step - loss: 1.6658 - acc: 0.5740 - val_loss: 1.6692 - val_acc: 0.5801\n",
            "Epoch 6/20\n",
            "8982/8982 [==============================] - 24s 3ms/step - loss: 1.5992 - acc: 0.5979 - val_loss: 1.6269 - val_acc: 0.5895\n",
            "Epoch 7/20\n",
            "8982/8982 [==============================] - 24s 3ms/step - loss: 1.4942 - acc: 0.6222 - val_loss: 1.5364 - val_acc: 0.6135\n"
          ],
          "name": "stdout"
        },
        {
          "output_type": "stream",
          "text": [
            "Epoch 8/20\n",
            "8982/8982 [==============================] - 24s 3ms/step - loss: 1.4192 - acc: 0.6386 - val_loss: 1.4509 - val_acc: 0.6407\n",
            "Epoch 9/20\n",
            "8982/8982 [==============================] - 24s 3ms/step - loss: 1.3242 - acc: 0.6620 - val_loss: 1.4022 - val_acc: 0.6536\n",
            "Epoch 10/20\n",
            "8982/8982 [==============================] - 24s 3ms/step - loss: 1.2673 - acc: 0.6815 - val_loss: 1.4221 - val_acc: 0.6340\n",
            "Epoch 11/20\n",
            "7500/8982 [========================>.....] - ETA: 3s - loss: 1.2121 - acc: 0.6912"
          ],
          "name": "stdout"
        },
        {
          "output_type": "stream",
          "text": [
            "8982/8982 [==============================] - 24s 3ms/step - loss: 1.2047 - acc: 0.6945 - val_loss: 1.3392 - val_acc: 0.6638\n",
            "Epoch 12/20\n",
            "8982/8982 [==============================] - 24s 3ms/step - loss: 1.1457 - acc: 0.7094 - val_loss: 1.3214 - val_acc: 0.6661\n",
            "Epoch 13/20\n",
            "8982/8982 [==============================] - 24s 3ms/step - loss: 1.0852 - acc: 0.7290 - val_loss: 1.2850 - val_acc: 0.6803\n",
            "Epoch 14/20\n",
            "8982/8982 [==============================] - 24s 3ms/step - loss: 1.0219 - acc: 0.7453 - val_loss: 1.2547 - val_acc: 0.6803\n",
            "Epoch 15/20\n",
            " 200/8982 [..............................] - ETA: 21s - loss: 0.9409 - acc: 0.7850"
          ],
          "name": "stdout"
        },
        {
          "output_type": "stream",
          "text": [
            "8982/8982 [==============================] - 24s 3ms/step - loss: 0.9923 - acc: 0.7530 - val_loss: 1.2382 - val_acc: 0.6946\n",
            "Epoch 16/20\n",
            "8982/8982 [==============================] - 24s 3ms/step - loss: 0.9364 - acc: 0.7662 - val_loss: 1.2289 - val_acc: 0.6941\n",
            "Epoch 17/20\n",
            "8982/8982 [==============================] - 24s 3ms/step - loss: 0.9011 - acc: 0.7751 - val_loss: 1.2127 - val_acc: 0.6897\n",
            "Epoch 18/20\n",
            "8200/8982 [==========================>...] - ETA: 1s - loss: 0.8524 - acc: 0.7870"
          ],
          "name": "stdout"
        },
        {
          "output_type": "stream",
          "text": [
            "8982/8982 [==============================] - 23s 3ms/step - loss: 0.8627 - acc: 0.7850 - val_loss: 1.1932 - val_acc: 0.7070\n",
            "Epoch 19/20\n",
            "8982/8982 [==============================] - 23s 3ms/step - loss: 0.8187 - acc: 0.7954 - val_loss: 1.2167 - val_acc: 0.6972\n",
            "Epoch 20/20\n",
            "8982/8982 [==============================] - 23s 3ms/step - loss: 0.7917 - acc: 0.8012 - val_loss: 1.1763 - val_acc: 0.7115\n"
          ],
          "name": "stdout"
        }
      ]
    },
    {
      "cell_type": "code",
      "metadata": {
        "id": "eYKGvvTGLztW",
        "colab_type": "code",
        "outputId": "ad19d95c-5e65-412e-be4c-41514a6bb8fd",
        "colab": {
          "base_uri": "https://localhost:8080/",
          "height": 73
        }
      },
      "source": [
        "print(\"\\n Test Accuracy: %.4f\" % (model.evaluate(x_test, y_test)[1]))"
      ],
      "execution_count": 0,
      "outputs": [
        {
          "output_type": "stream",
          "text": [
            "2246/2246 [==============================] - 4s 2ms/step\n",
            "\n",
            " Test Accuracy: 0.7115\n"
          ],
          "name": "stdout"
        }
      ]
    },
    {
      "cell_type": "code",
      "metadata": {
        "id": "WGUP5QzMJaUm",
        "colab_type": "code",
        "outputId": "72686f78-bfc6-4566-bb67-c48b03bfb3ff",
        "colab": {
          "base_uri": "https://localhost:8080/",
          "height": 361
        }
      },
      "source": [
        "y_vloss = history.history['val_loss']\n",
        "y_loss = history.history['loss']\n",
        "x_len = numpy.arange(len(y_loss))\n",
        "\n",
        "plt.plot(x_len, y_vloss, marker='.', c=\"red\", label='Testset_loss')\n",
        "plt.plot(x_len, y_loss, marker='.', c=\"blue\", label='Trainset_loss')\n",
        "\n",
        "plt.legend(loc='upper right')\n",
        "plt.grid()\n",
        "plt.xlabel('epoch')\n",
        "plt.ylabel('loss')\n",
        "plt.show()"
      ],
      "execution_count": 0,
      "outputs": [
        {
          "output_type": "display_data",
          "data": {
            "image/png": "[encoded data removed]",
            "text/plain": [
              "<matplotlib.figure.Figure at 0x7f41c8406160>"
            ]
          },
          "metadata": {
            "tags": []
          }
        }
      ]
    }
  ]
}